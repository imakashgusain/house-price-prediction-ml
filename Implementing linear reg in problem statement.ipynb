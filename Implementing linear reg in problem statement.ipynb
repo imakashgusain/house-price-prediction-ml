{
 "cells": [
  {
   "cell_type": "code",
   "execution_count": 2,
   "metadata": {},
   "outputs": [],
   "source": [
    "#importing libraries\n",
    "import pandas as pd\n",
    "import numpy as np\n",
    "import matplotlib.pyplot as plt"
   ]
  },
  {
   "cell_type": "code",
   "execution_count": 3,
   "metadata": {},
   "outputs": [
    {
     "data": {
      "text/html": [
       "<div>\n",
       "<style scoped>\n",
       "    .dataframe tbody tr th:only-of-type {\n",
       "        vertical-align: middle;\n",
       "    }\n",
       "\n",
       "    .dataframe tbody tr th {\n",
       "        vertical-align: top;\n",
       "    }\n",
       "\n",
       "    .dataframe thead th {\n",
       "        text-align: right;\n",
       "    }\n",
       "</style>\n",
       "<table border=\"1\" class=\"dataframe\">\n",
       "  <thead>\n",
       "    <tr style=\"text-align: right;\">\n",
       "      <th></th>\n",
       "      <th>Unnamed: 0</th>\n",
       "      <th>INT_SQFT</th>\n",
       "      <th>DIST_MAINROAD</th>\n",
       "      <th>QS_ROOMS</th>\n",
       "      <th>QS_BATHROOM</th>\n",
       "      <th>QS_BEDROOM</th>\n",
       "      <th>QS_OVERALL</th>\n",
       "      <th>COMMIS</th>\n",
       "      <th>SALES_PRICE</th>\n",
       "      <th>AREA_Adyar</th>\n",
       "      <th>...</th>\n",
       "      <th>UTILITY_AVAIL_NoSeWa</th>\n",
       "      <th>STREET_Gravel</th>\n",
       "      <th>STREET_No Access</th>\n",
       "      <th>STREET_Paved</th>\n",
       "      <th>MZZONE_A</th>\n",
       "      <th>MZZONE_C</th>\n",
       "      <th>MZZONE_I</th>\n",
       "      <th>MZZONE_RH</th>\n",
       "      <th>MZZONE_RL</th>\n",
       "      <th>MZZONE_RM</th>\n",
       "    </tr>\n",
       "  </thead>\n",
       "  <tbody>\n",
       "    <tr>\n",
       "      <th>0</th>\n",
       "      <td>0</td>\n",
       "      <td>1004</td>\n",
       "      <td>131</td>\n",
       "      <td>4.0</td>\n",
       "      <td>3.9</td>\n",
       "      <td>4.9</td>\n",
       "      <td>4.330</td>\n",
       "      <td>144400</td>\n",
       "      <td>7600000</td>\n",
       "      <td>0</td>\n",
       "      <td>...</td>\n",
       "      <td>0</td>\n",
       "      <td>0</td>\n",
       "      <td>0</td>\n",
       "      <td>1</td>\n",
       "      <td>1</td>\n",
       "      <td>0</td>\n",
       "      <td>0</td>\n",
       "      <td>0</td>\n",
       "      <td>0</td>\n",
       "      <td>0</td>\n",
       "    </tr>\n",
       "    <tr>\n",
       "      <th>1</th>\n",
       "      <td>1</td>\n",
       "      <td>1986</td>\n",
       "      <td>26</td>\n",
       "      <td>4.9</td>\n",
       "      <td>4.2</td>\n",
       "      <td>2.5</td>\n",
       "      <td>3.765</td>\n",
       "      <td>304049</td>\n",
       "      <td>21717770</td>\n",
       "      <td>0</td>\n",
       "      <td>...</td>\n",
       "      <td>0</td>\n",
       "      <td>1</td>\n",
       "      <td>0</td>\n",
       "      <td>0</td>\n",
       "      <td>0</td>\n",
       "      <td>0</td>\n",
       "      <td>0</td>\n",
       "      <td>1</td>\n",
       "      <td>0</td>\n",
       "      <td>0</td>\n",
       "    </tr>\n",
       "    <tr>\n",
       "      <th>2</th>\n",
       "      <td>2</td>\n",
       "      <td>909</td>\n",
       "      <td>70</td>\n",
       "      <td>4.1</td>\n",
       "      <td>3.8</td>\n",
       "      <td>2.2</td>\n",
       "      <td>3.090</td>\n",
       "      <td>92114</td>\n",
       "      <td>13159200</td>\n",
       "      <td>1</td>\n",
       "      <td>...</td>\n",
       "      <td>0</td>\n",
       "      <td>1</td>\n",
       "      <td>0</td>\n",
       "      <td>0</td>\n",
       "      <td>0</td>\n",
       "      <td>0</td>\n",
       "      <td>0</td>\n",
       "      <td>0</td>\n",
       "      <td>1</td>\n",
       "      <td>0</td>\n",
       "    </tr>\n",
       "    <tr>\n",
       "      <th>3</th>\n",
       "      <td>3</td>\n",
       "      <td>1855</td>\n",
       "      <td>14</td>\n",
       "      <td>4.7</td>\n",
       "      <td>3.9</td>\n",
       "      <td>3.6</td>\n",
       "      <td>4.010</td>\n",
       "      <td>77042</td>\n",
       "      <td>9630290</td>\n",
       "      <td>0</td>\n",
       "      <td>...</td>\n",
       "      <td>1</td>\n",
       "      <td>0</td>\n",
       "      <td>0</td>\n",
       "      <td>1</td>\n",
       "      <td>0</td>\n",
       "      <td>0</td>\n",
       "      <td>1</td>\n",
       "      <td>0</td>\n",
       "      <td>0</td>\n",
       "      <td>0</td>\n",
       "    </tr>\n",
       "    <tr>\n",
       "      <th>4</th>\n",
       "      <td>4</td>\n",
       "      <td>1226</td>\n",
       "      <td>84</td>\n",
       "      <td>3.0</td>\n",
       "      <td>2.5</td>\n",
       "      <td>4.1</td>\n",
       "      <td>3.290</td>\n",
       "      <td>74063</td>\n",
       "      <td>7406250</td>\n",
       "      <td>0</td>\n",
       "      <td>...</td>\n",
       "      <td>0</td>\n",
       "      <td>1</td>\n",
       "      <td>0</td>\n",
       "      <td>0</td>\n",
       "      <td>0</td>\n",
       "      <td>1</td>\n",
       "      <td>0</td>\n",
       "      <td>0</td>\n",
       "      <td>0</td>\n",
       "      <td>0</td>\n",
       "    </tr>\n",
       "  </tbody>\n",
       "</table>\n",
       "<p>5 rows × 49 columns</p>\n",
       "</div>"
      ],
      "text/plain": [
       "   Unnamed: 0  INT_SQFT  DIST_MAINROAD  QS_ROOMS  QS_BATHROOM  QS_BEDROOM  \\\n",
       "0           0      1004            131       4.0          3.9         4.9   \n",
       "1           1      1986             26       4.9          4.2         2.5   \n",
       "2           2       909             70       4.1          3.8         2.2   \n",
       "3           3      1855             14       4.7          3.9         3.6   \n",
       "4           4      1226             84       3.0          2.5         4.1   \n",
       "\n",
       "   QS_OVERALL  COMMIS  SALES_PRICE  AREA_Adyar  ...  UTILITY_AVAIL_NoSeWa  \\\n",
       "0       4.330  144400      7600000           0  ...                     0   \n",
       "1       3.765  304049     21717770           0  ...                     0   \n",
       "2       3.090   92114     13159200           1  ...                     0   \n",
       "3       4.010   77042      9630290           0  ...                     1   \n",
       "4       3.290   74063      7406250           0  ...                     0   \n",
       "\n",
       "   STREET_Gravel  STREET_No Access  STREET_Paved  MZZONE_A  MZZONE_C  \\\n",
       "0              0                 0             1         1         0   \n",
       "1              1                 0             0         0         0   \n",
       "2              1                 0             0         0         0   \n",
       "3              0                 0             1         0         0   \n",
       "4              1                 0             0         0         1   \n",
       "\n",
       "   MZZONE_I  MZZONE_RH  MZZONE_RL  MZZONE_RM  \n",
       "0         0          0          0          0  \n",
       "1         0          1          0          0  \n",
       "2         0          0          1          0  \n",
       "3         1          0          0          0  \n",
       "4         0          0          0          0  \n",
       "\n",
       "[5 rows x 49 columns]"
      ]
     },
     "execution_count": 3,
     "metadata": {},
     "output_type": "execute_result"
    }
   ],
   "source": [
    "#importing the data\n",
    "data = pd.read_csv(\"cleaned_house_price_prediction.csv\")\n",
    "data.head() "
   ]
  },
  {
   "cell_type": "code",
   "execution_count": 4,
   "metadata": {},
   "outputs": [
    {
     "data": {
      "text/plain": [
       "Unnamed: 0               0\n",
       "INT_SQFT                 0\n",
       "DIST_MAINROAD            0\n",
       "QS_ROOMS                 0\n",
       "QS_BATHROOM              0\n",
       "QS_BEDROOM               0\n",
       "QS_OVERALL               0\n",
       "COMMIS                   0\n",
       "SALES_PRICE              0\n",
       "AREA_Adyar               0\n",
       "AREA_Anna Nagar          0\n",
       "AREA_Chrompet            0\n",
       "AREA_KK Nagar            0\n",
       "AREA_Karapakkam          0\n",
       "AREA_T Nagar             0\n",
       "AREA_Velachery           0\n",
       "N_BEDROOM_1.0            0\n",
       "N_BEDROOM_2.0            0\n",
       "N_BEDROOM_3.0            0\n",
       "N_BEDROOM_4.0            0\n",
       "N_BATHROOM_1.0           0\n",
       "N_BATHROOM_2.0           0\n",
       "N_ROOM_2                 0\n",
       "N_ROOM_3                 0\n",
       "N_ROOM_4                 0\n",
       "N_ROOM_5                 0\n",
       "N_ROOM_6                 0\n",
       "SALE_COND_AbNormal       0\n",
       "SALE_COND_AdjLand        0\n",
       "SALE_COND_Family         0\n",
       "SALE_COND_Normal Sale    0\n",
       "SALE_COND_Partial        0\n",
       "PARK_FACIL_No            0\n",
       "PARK_FACIL_Yes           0\n",
       "BUILDTYPE_Commercial     0\n",
       "BUILDTYPE_House          0\n",
       "BUILDTYPE_Others         0\n",
       "UTILITY_AVAIL_AllPub     0\n",
       "UTILITY_AVAIL_ELO        0\n",
       "UTILITY_AVAIL_NoSeWa     0\n",
       "STREET_Gravel            0\n",
       "STREET_No Access         0\n",
       "STREET_Paved             0\n",
       "MZZONE_A                 0\n",
       "MZZONE_C                 0\n",
       "MZZONE_I                 0\n",
       "MZZONE_RH                0\n",
       "MZZONE_RL                0\n",
       "MZZONE_RM                0\n",
       "dtype: int64"
      ]
     },
     "execution_count": 4,
     "metadata": {},
     "output_type": "execute_result"
    }
   ],
   "source": [
    "data.isnull().sum()"
   ]
  },
  {
   "cell_type": "code",
   "execution_count": 5,
   "metadata": {},
   "outputs": [
    {
     "data": {
      "text/plain": [
       "((7109, 48), (7109,))"
      ]
     },
     "execution_count": 5,
     "metadata": {},
     "output_type": "execute_result"
    }
   ],
   "source": [
    "# segregating independent and dependent variables\n",
    "x = data.drop(['SALES_PRICE'],axis=1)\n",
    "y = data['SALES_PRICE']\n",
    "x.shape , y.shape"
   ]
  },
  {
   "cell_type": "code",
   "execution_count": 6,
   "metadata": {},
   "outputs": [],
   "source": [
    "# splitting data\n",
    "from sklearn.model_selection import train_test_split\n",
    "train_x , test_x,train_y,test_y = train_test_split(x,y,random_state = 56)"
   ]
  },
  {
   "cell_type": "markdown",
   "metadata": {},
   "source": [
    "# Implementing Linear regression"
   ]
  },
  {
   "cell_type": "code",
   "execution_count": 7,
   "metadata": {},
   "outputs": [],
   "source": [
    "# importing linear regression and mean square error\n",
    "from sklearn.linear_model import LinearRegression as LR\n",
    "from sklearn.metrics import mean_absolute_error as mae"
   ]
  },
  {
   "cell_type": "code",
   "execution_count": 8,
   "metadata": {},
   "outputs": [
    {
     "data": {
      "text/plain": [
       "LinearRegression(copy_X=True, fit_intercept=True, n_jobs=None, normalize=False)"
      ]
     },
     "execution_count": 8,
     "metadata": {},
     "output_type": "execute_result"
    }
   ],
   "source": [
    "# creating instance of linear regression\n",
    "lr = LR()\n",
    "\n",
    "# fitting the model\n",
    "lr.fit(train_x,train_y)"
   ]
  },
  {
   "cell_type": "code",
   "execution_count": 9,
   "metadata": {},
   "outputs": [
    {
     "name": "stdout",
     "output_type": "stream",
     "text": [
      "Training Mean Absoulute Error 596741.7853100663\n"
     ]
    }
   ],
   "source": [
    "# predicting over the train set and calculating the error\n",
    "train_predict = lr.predict(train_x)\n",
    "k = mae(train_predict , train_y)\n",
    "print('Training Mean Absoulute Error',k)"
   ]
  },
  {
   "cell_type": "code",
   "execution_count": 10,
   "metadata": {},
   "outputs": [
    {
     "name": "stdout",
     "output_type": "stream",
     "text": [
      "Test Mean Absoulute Error 602044.1374787677\n"
     ]
    }
   ],
   "source": [
    "# predicting over the test set and calculating the error\n",
    "test_predict = lr.predict(test_x)\n",
    "k = mae(test_predict , test_y)\n",
    "print('Test Mean Absoulute Error',k)"
   ]
  },
  {
   "cell_type": "markdown",
   "metadata": {},
   "source": [
    "# Parameters of Linear Regeression"
   ]
  },
  {
   "cell_type": "code",
   "execution_count": 11,
   "metadata": {},
   "outputs": [
    {
     "data": {
      "text/plain": [
       "array([ 3.08097383e-01,  3.88614341e+03, -1.38904185e+02, -8.19786971e+04,\n",
       "       -7.11865004e+04, -7.84608150e+04,  2.90280411e+05,  2.81404503e+00,\n",
       "        8.29735229e+05,  1.51437116e+06,  3.35494679e+05, -1.38739097e+06,\n",
       "       -1.69943758e+06,  1.63826987e+06, -1.23104239e+06,  2.81943384e+05,\n",
       "       -4.08174862e+04, -4.70207615e+05,  2.29081718e+05,  2.15127039e+05,\n",
       "       -2.15127039e+05, -7.64118513e+05, -6.08045498e+05,  1.14756277e+05,\n",
       "        1.02832602e+06,  2.29081718e+05,  1.08006742e+04,  3.16609284e+05,\n",
       "       -9.32633772e+04,  3.75095660e+04, -2.71656148e+05, -5.02726625e+05,\n",
       "        5.02726625e+05,  2.77359363e+06, -1.72086591e+06, -1.05272773e+06,\n",
       "        1.71585858e+05, -1.30608330e+05, -4.09775286e+04,  5.46204490e+05,\n",
       "       -5.75117981e+05,  2.89134908e+04, -1.40641209e+06, -8.85149664e+05,\n",
       "       -2.66274618e+05,  2.44717647e+05,  8.56628229e+05,  1.45649049e+06])"
      ]
     },
     "execution_count": 11,
     "metadata": {},
     "output_type": "execute_result"
    }
   ],
   "source": [
    "lr.coef_"
   ]
  },
  {
   "cell_type": "code",
   "execution_count": 12,
   "metadata": {},
   "outputs": [
    {
     "data": {
      "text/plain": [
       "Text(0.5, 1.0, 'Coefficient plot')"
      ]
     },
     "execution_count": 12,
     "metadata": {},
     "output_type": "execute_result"
    },
    {
     "data": {
      "image/png": "[encoded data removed]",
      "text/plain": [
       "<Figure size 960x720 with 1 Axes>"
      ]
     },
     "metadata": {},
     "output_type": "display_data"
    }
   ],
   "source": [
    "plt.figure(figsize=(8,6), dpi=120 , facecolor='w' ,edgecolor='b')\n",
    "x = range(len(train_x.columns))\n",
    "y = lr.coef_\n",
    "plt.bar(x,y) \n",
    "plt.xlabel('Variables')\n",
    "plt.ylabel('Coefficients')\n",
    "plt.title('Coefficient plot')"
   ]
  },
  {
   "cell_type": "markdown",
   "metadata": {},
   "source": [
    "# checking assumptions of linear model"
   ]
  },
  {
   "cell_type": "code",
   "execution_count": 13,
   "metadata": {},
   "outputs": [
    {
     "data": {
      "text/html": [
       "<div>\n",
       "<style scoped>\n",
       "    .dataframe tbody tr th:only-of-type {\n",
       "        vertical-align: middle;\n",
       "    }\n",
       "\n",
       "    .dataframe tbody tr th {\n",
       "        vertical-align: top;\n",
       "    }\n",
       "\n",
       "    .dataframe thead th {\n",
       "        text-align: right;\n",
       "    }\n",
       "</style>\n",
       "<table border=\"1\" class=\"dataframe\">\n",
       "  <thead>\n",
       "    <tr style=\"text-align: right;\">\n",
       "      <th></th>\n",
       "      <th>fitted values</th>\n",
       "      <th>predicted values</th>\n",
       "      <th>residuals</th>\n",
       "    </tr>\n",
       "  </thead>\n",
       "  <tbody>\n",
       "    <tr>\n",
       "      <th>2903</th>\n",
       "      <td>11949030</td>\n",
       "      <td>1.233998e+07</td>\n",
       "      <td>-390954.419284</td>\n",
       "    </tr>\n",
       "    <tr>\n",
       "      <th>3398</th>\n",
       "      <td>4873750</td>\n",
       "      <td>4.217343e+06</td>\n",
       "      <td>656407.066409</td>\n",
       "    </tr>\n",
       "    <tr>\n",
       "      <th>4011</th>\n",
       "      <td>9292000</td>\n",
       "      <td>9.789459e+06</td>\n",
       "      <td>-497459.357631</td>\n",
       "    </tr>\n",
       "    <tr>\n",
       "      <th>458</th>\n",
       "      <td>6149625</td>\n",
       "      <td>6.027320e+06</td>\n",
       "      <td>122304.563978</td>\n",
       "    </tr>\n",
       "    <tr>\n",
       "      <th>223</th>\n",
       "      <td>10722580</td>\n",
       "      <td>1.093519e+07</td>\n",
       "      <td>-212605.163013</td>\n",
       "    </tr>\n",
       "  </tbody>\n",
       "</table>\n",
       "</div>"
      ],
      "text/plain": [
       "      fitted values  predicted values      residuals\n",
       "2903       11949030      1.233998e+07 -390954.419284\n",
       "3398        4873750      4.217343e+06  656407.066409\n",
       "4011        9292000      9.789459e+06 -497459.357631\n",
       "458         6149625      6.027320e+06  122304.563978\n",
       "223        10722580      1.093519e+07 -212605.163013"
      ]
     },
     "execution_count": 13,
     "metadata": {},
     "output_type": "execute_result"
    }
   ],
   "source": [
    "# arranging and calculating the residuals \n",
    "residuals = pd.DataFrame({\n",
    "    'fitted values' : test_y,\n",
    "    'predicted values' : test_predict,\n",
    "})\n",
    "\n",
    "residuals['residuals'] = residuals['fitted values'] - residuals['predicted values']\n",
    "residuals.head()"
   ]
  },
  {
   "cell_type": "code",
   "execution_count": 14,
   "metadata": {},
   "outputs": [
    {
     "data": {
      "image/png": "[encoded data removed]",
      "text/plain": [
       "<Figure size 1200x720 with 1 Axes>"
      ]
     },
     "metadata": {},
     "output_type": "display_data"
    }
   ],
   "source": [
    "# checking distribution of residuals\n",
    "plt.figure(figsize=(10,6), dpi=120 , facecolor='w' ,edgecolor='b')\n",
    "plt.hist(residuals.residuals,bins = 150)\n",
    "plt.xlabel('Error')\n",
    "plt.ylabel('Frequency')\n",
    "plt.title('Distribution of Error Terms')\n",
    "plt.show()"
   ]
  },
  {
   "cell_type": "markdown",
   "metadata": {},
   "source": [
    "## QQ plot (is data normally distributed)"
   ]
  },
  {
   "cell_type": "code",
   "execution_count": 15,
   "metadata": {},
   "outputs": [
    {
     "data": {
      "image/png": "[encoded data removed]",
      "text/plain": [
       "<Figure size 600x600 with 1 Axes>"
      ]
     },
     "metadata": {
      "needs_background": "light"
     },
     "output_type": "display_data"
    }
   ],
   "source": [
    "# importing the QQ-PLOT from statsmodels\n",
    "from statsmodels.graphics.gofplots import qqplot\n",
    "\n",
    "# plotting the qq plot\n",
    "fig,ax = plt.subplots(figsize=(5,5),dpi=120)\n",
    "qqplot(residuals.residuals,line = 's',ax=ax)\n",
    "plt.ylabel('Residual Quantiles')\n",
    "plt.xlabel('Ideal Scaled Quantiles')\n",
    "plt.title('Checking distribution of residual erros')\n",
    "plt.show()"
   ]
  },
  {
   "cell_type": "code",
   "execution_count": 16,
   "metadata": {},
   "outputs": [
    {
     "name": "stderr",
     "output_type": "stream",
     "text": [
      "C:\\Users\\akash\\anaconda3\\lib\\site-packages\\statsmodels\\stats\\outliers_influence.py:193: RuntimeWarning: divide by zero encountered in double_scalars\n",
      "  vif = 1. / (1. - r_squared_i)\n"
     ]
    },
    {
     "data": {
      "text/plain": [
       "Unnamed: 0                1.005556\n",
       "INT_SQFT                 24.484902\n",
       "DIST_MAINROAD             1.005374\n",
       "QS_ROOMS                  8.862277\n",
       "QS_BATHROOM              10.394919\n",
       "QS_BEDROOM               13.211754\n",
       "QS_OVERALL               30.522244\n",
       "COMMIS                    2.195302\n",
       "SALES_PRICE              22.840606\n",
       "AREA_Adyar                     inf\n",
       "AREA_Anna Nagar                inf\n",
       "AREA_Chrompet                  inf\n",
       "AREA_KK Nagar                  inf\n",
       "AREA_Karapakkam                inf\n",
       "AREA_T Nagar                   inf\n",
       "AREA_Velachery                 inf\n",
       "N_BEDROOM_1.0                  inf\n",
       "N_BEDROOM_2.0                  inf\n",
       "N_BEDROOM_3.0                  inf\n",
       "N_BEDROOM_4.0                  inf\n",
       "N_BATHROOM_1.0                 inf\n",
       "N_BATHROOM_2.0                 inf\n",
       "N_ROOM_2                       inf\n",
       "N_ROOM_3                       inf\n",
       "N_ROOM_4                       inf\n",
       "N_ROOM_5                       inf\n",
       "N_ROOM_6                       inf\n",
       "SALE_COND_AbNormal             inf\n",
       "SALE_COND_AdjLand              inf\n",
       "SALE_COND_Family               inf\n",
       "SALE_COND_Normal Sale          inf\n",
       "SALE_COND_Partial              inf\n",
       "PARK_FACIL_No                  inf\n",
       "PARK_FACIL_Yes                 inf\n",
       "BUILDTYPE_Commercial           inf\n",
       "BUILDTYPE_House                inf\n",
       "BUILDTYPE_Others               inf\n",
       "UTILITY_AVAIL_AllPub           inf\n",
       "UTILITY_AVAIL_ELO              inf\n",
       "UTILITY_AVAIL_NoSeWa           inf\n",
       "STREET_Gravel                  inf\n",
       "STREET_No Access               inf\n",
       "STREET_Paved                   inf\n",
       "MZZONE_A                       inf\n",
       "MZZONE_C                       inf\n",
       "MZZONE_I                       inf\n",
       "MZZONE_RH                      inf\n",
       "MZZONE_RL                      inf\n",
       "MZZONE_RM                      inf\n",
       "dtype: float64"
      ]
     },
     "execution_count": 16,
     "metadata": {},
     "output_type": "execute_result"
    }
   ],
   "source": [
    "# checking vif(variance inflation factor) for multi collinearity\n",
    "\n",
    "#importig vif from statsmodels\n",
    "from statsmodels.stats.outliers_influence import variance_inflation_factor\n",
    "from statsmodels.tools.tools import add_constant\n",
    "\n",
    "# calculating VIF for every column(only works for the non categorical)\n",
    "VIF = pd.Series([variance_inflation_factor(data.values,i ) for i in range(data.shape[1])], index =data.columns)\n",
    "VIF"
   ]
  },
  {
   "cell_type": "markdown",
   "metadata": {},
   "source": [
    "# model interpretability"
   ]
  },
  {
   "cell_type": "code",
   "execution_count": 17,
   "metadata": {},
   "outputs": [
    {
     "data": {
      "text/plain": [
       "LinearRegression(copy_X=True, fit_intercept=True, n_jobs=None, normalize=True)"
      ]
     },
     "execution_count": 17,
     "metadata": {},
     "output_type": "execute_result"
    }
   ],
   "source": [
    "# scaling the variables in order to perform operation\n",
    "\n",
    "# we can say normalising\n",
    "# creating instance\n",
    "lr = LR(normalize = True)\n",
    "\n",
    "#fitting the model\n",
    "lr.fit(train_x,train_y)"
   ]
  },
  {
   "cell_type": "code",
   "execution_count": 18,
   "metadata": {},
   "outputs": [
    {
     "name": "stdout",
     "output_type": "stream",
     "text": [
      "Training Mean Absoulute Error 598882.7994747702\n"
     ]
    }
   ],
   "source": [
    "# predicting over the train set and calculating the error\n",
    "train_predict = lr.predict(train_x)\n",
    "k = mae(train_predict , train_y)\n",
    "print('Training Mean Absoulute Error',k)"
   ]
  },
  {
   "cell_type": "code",
   "execution_count": 19,
   "metadata": {},
   "outputs": [
    {
     "name": "stdout",
     "output_type": "stream",
     "text": [
      "Test Mean Absoulute Error 603246.9623172104\n"
     ]
    }
   ],
   "source": [
    "# predicting over the test set and calculating the error\n",
    "test_predict = lr.predict(test_x)\n",
    "k = mae(test_predict , test_y)\n",
    "print('Test Mean Absoulute Error',k)"
   ]
  },
  {
   "cell_type": "code",
   "execution_count": 20,
   "metadata": {},
   "outputs": [
    {
     "data": {
      "text/plain": [
       "Text(0.5, 1.0, 'Coefficient plot')"
      ]
     },
     "execution_count": 20,
     "metadata": {},
     "output_type": "execute_result"
    },
    {
     "data": {
      "image/png": "[encoded data removed]",
      "text/plain": [
       "<Figure size 960x720 with 1 Axes>"
      ]
     },
     "metadata": {},
     "output_type": "display_data"
    }
   ],
   "source": [
    "plt.figure(figsize=(8,6), dpi=120 , facecolor='w' ,edgecolor='b')\n",
    "x = range(len(train_x.columns))\n",
    "y = lr.coef_\n",
    "plt.bar(x,y) \n",
    "plt.xlabel('Variables')\n",
    "plt.ylabel('Coefficients')\n",
    "plt.title('Coefficient plot')"
   ]
  }
 ],
 "metadata": {
  "kernelspec": {
   "display_name": "Python 3",
   "language": "python",
   "name": "python3"
  },
  "language_info": {
   "codemirror_mode": {
    "name": "ipython",
    "version": 3
   },
   "file_extension": ".py",
   "mimetype": "text/x-python",
   "name": "python",
   "nbconvert_exporter": "python",
   "pygments_lexer": "ipython3",
   "version": "3.7.6"
  }
 },
 "nbformat": 4,
 "nbformat_minor": 4
}
